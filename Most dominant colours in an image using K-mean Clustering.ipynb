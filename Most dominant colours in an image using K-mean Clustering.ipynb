{
 "cells": [
  {
   "cell_type": "markdown",
   "id": "3eaafadd",
   "metadata": {},
   "source": [
    "# <div style='color:Brown; text-align:center;'>Most dominant colors in an image using KMeans clustering</div>"
   ]
  },
  {
   "cell_type": "markdown",
   "id": "c96d26f7",
   "metadata": {},
   "source": [
    "### Essential Loading Libraries"
   ]
  },
  {
   "cell_type": "code",
   "execution_count": 1,
   "id": "69ac04d2",
   "metadata": {},
   "outputs": [],
   "source": [
    "import cv2\n",
    "import imutils\n",
    "import numpy as np\n",
    "import matplotlib.pyplot as plt\n",
    "from sklearn.cluster import KMeans"
   ]
  },
  {
   "cell_type": "markdown",
   "id": "b371e9eb",
   "metadata": {},
   "source": [
    "### Defining the number of clusters"
   ]
  },
  {
   "cell_type": "code",
   "execution_count": 47,
   "id": "fe5a888c",
   "metadata": {},
   "outputs": [],
   "source": [
    "clusters = 5"
   ]
  },
  {
   "cell_type": "markdown",
   "id": "c3babf0d",
   "metadata": {},
   "source": [
    "### Selecting Image"
   ]
  },
  {
   "cell_type": "code",
   "execution_count": 48,
   "id": "a9b6f2f7",
   "metadata": {},
   "outputs": [],
   "source": [
    "img_file = \"sampleimage.jpg\""
   ]
  },
  {
   "cell_type": "markdown",
   "id": "689a4028",
   "metadata": {},
   "source": [
    "### Loading and Processing images"
   ]
  },
  {
   "cell_type": "code",
   "execution_count": 49,
   "id": "c0dabdc9",
   "metadata": {},
   "outputs": [
    {
     "name": "stdout",
     "output_type": "stream",
     "text": [
      "Org image shape:  (1599, 1185, 3)\n"
     ]
    }
   ],
   "source": [
    "img = cv2.imread(img_file)\n",
    "org_img = img.copy()\n",
    "print('Org image shape: ',img.shape)"
   ]
  },
  {
   "cell_type": "code",
   "execution_count": 50,
   "id": "a5944f91",
   "metadata": {},
   "outputs": [
    {
     "name": "stdout",
     "output_type": "stream",
     "text": [
      "After resizing shape:  (200, 148, 3)\n"
     ]
    }
   ],
   "source": [
    "img = imutils.resize(img,height=200)\n",
    "print('After resizing shape: ',img.shape)"
   ]
  },
  {
   "cell_type": "code",
   "execution_count": 51,
   "id": "5c4e712b",
   "metadata": {},
   "outputs": [
    {
     "name": "stdout",
     "output_type": "stream",
     "text": [
      "After Flattening shape:  (29600, 3)\n"
     ]
    }
   ],
   "source": [
    "flat_img = np.reshape(img,(-1,3))\n",
    "print('After Flattening shape: ',flat_img.shape)"
   ]
  },
  {
   "cell_type": "markdown",
   "id": "cfe562f8",
   "metadata": {},
   "source": [
    "### Applying KMean Clustring on Image Data"
   ]
  },
  {
   "cell_type": "code",
   "execution_count": 52,
   "id": "8fd82a7c",
   "metadata": {},
   "outputs": [
    {
     "data": {
      "text/plain": [
       "KMeans(n_clusters=5, random_state=0)"
      ]
     },
     "execution_count": 52,
     "metadata": {},
     "output_type": "execute_result"
    }
   ],
   "source": [
    "kmeans = KMeans(n_clusters=clusters,random_state=0)\n",
    "kmeans.fit(flat_img)"
   ]
  },
  {
   "cell_type": "markdown",
   "id": "e183435b",
   "metadata": {},
   "source": [
    "### Retrieving Dominant Colors & Their Percentage"
   ]
  },
  {
   "cell_type": "code",
   "execution_count": 53,
   "id": "1a307297",
   "metadata": {},
   "outputs": [],
   "source": [
    "dominant_colors = np.array(kmeans.cluster_centers_,dtype='uint')"
   ]
  },
  {
   "cell_type": "code",
   "execution_count": 54,
   "id": "740197dc",
   "metadata": {},
   "outputs": [
    {
     "data": {
      "text/plain": [
       "(array([0, 1, 2, 3, 4]),\n",
       " array([ 3475,  8238, 11247,  1954,  4686], dtype=int64))"
      ]
     },
     "execution_count": 54,
     "metadata": {},
     "output_type": "execute_result"
    }
   ],
   "source": [
    "np.unique(kmeans.labels_,return_counts=True)"
   ]
  },
  {
   "cell_type": "code",
   "execution_count": 55,
   "id": "d1967f8e",
   "metadata": {},
   "outputs": [
    {
     "data": {
      "text/plain": [
       "29600"
      ]
     },
     "execution_count": 55,
     "metadata": {},
     "output_type": "execute_result"
    }
   ],
   "source": [
    "flat_img.shape[0] # total pixels"
   ]
  },
  {
   "cell_type": "code",
   "execution_count": 56,
   "id": "ebe3082c",
   "metadata": {},
   "outputs": [],
   "source": [
    "percentages = (np.unique(kmeans.labels_,return_counts=True)[1])/flat_img.shape[0]"
   ]
  },
  {
   "cell_type": "code",
   "execution_count": 57,
   "id": "5a42a362",
   "metadata": {},
   "outputs": [],
   "source": [
    "p_and_c = zip(percentages,dominant_colors)\n",
    "p_and_c = sorted(p_and_c,reverse=True)"
   ]
  },
  {
   "cell_type": "code",
   "execution_count": 58,
   "id": "d1891449",
   "metadata": {},
   "outputs": [
    {
     "name": "stdout",
     "output_type": "stream",
     "text": [
      "Color Code(RGB)\tColor Percent\n",
      "[231 223 217]\t37.997 %\n",
      "[217 195 162]\t27.831 %\n",
      "[176 164 203]\t15.831 %\n",
      "[27 18 14]\t11.74 %\n",
      "[125  98  68]\t6.601 %\n"
     ]
    }
   ],
   "source": [
    "print(\"Color Code(RGB)\\tColor Percent\")\n",
    "for p, c in p_and_c:\n",
    "    print(f\"{c}\\t{round(p*100, 3)} %\")"
   ]
  },
  {
   "cell_type": "markdown",
   "id": "7d1415a7",
   "metadata": {},
   "source": [
    "### Displaying Dominant Colors"
   ]
  },
  {
   "cell_type": "code",
   "execution_count": 59,
   "id": "ec415b44",
   "metadata": {},
   "outputs": [
    {
     "data": {
      "image/png": "[encoded data removed]",
      "text/plain": [
       "<Figure size 1200x800 with 5 Axes>"
      ]
     },
     "metadata": {},
     "output_type": "display_data"
    }
   ],
   "source": [
    "block = np.ones((50,50,3),dtype='uint')\n",
    "\n",
    "plt.figure(figsize=(12,8))\n",
    "\n",
    "for i in range(clusters):\n",
    "    plt.subplot(1,clusters,i+1)\n",
    "    block[:] = p_and_c[i][1][::-1] # we have done this to convert bgr(opencv) to rgb(matplotlib) \n",
    "    plt.imshow(block)\n",
    "    plt.xticks([])\n",
    "    plt.yticks([])\n",
    "    plt.xlabel(str(round(p_and_c[i][0]*100,2))+'%')"
   ]
  },
  {
   "cell_type": "code",
   "execution_count": 60,
   "id": "22942984",
   "metadata": {},
   "outputs": [
    {
     "data": {
      "text/plain": [
       "([], [])"
      ]
     },
     "execution_count": 60,
     "metadata": {},
     "output_type": "execute_result"
    },
    {
     "data": {
      "image/png": "[encoded data removed]",
      "text/plain": [
       "<Figure size 1200x800 with 1 Axes>"
      ]
     },
     "metadata": {},
     "output_type": "display_data"
    }
   ],
   "source": [
    "bar = np.ones((50,500,3),dtype='uint')\n",
    "\n",
    "plt.figure(figsize=(12,8))\n",
    "\n",
    "plt.title('Proportions of colors in the image')\n",
    "start = 0\n",
    "i = 1\n",
    "\n",
    "for p,c in p_and_c:\n",
    "    end = start+int(p*bar.shape[1])\n",
    "    if i==clusters:\n",
    "        bar[:,start:] = c[::-1]\n",
    "    else:\n",
    "        bar[:,start:end] = c[::-1]\n",
    "    start = end\n",
    "    i+=1\n",
    "\n",
    "plt.imshow(bar)\n",
    "plt.xticks([])\n",
    "plt.yticks([])"
   ]
  },
  {
   "cell_type": "code",
   "execution_count": 61,
   "id": "5f9eb4a4",
   "metadata": {},
   "outputs": [],
   "source": [
    "rows = 1000\n",
    "cols = int((org_img.shape[0]/org_img.shape[1])*rows)\n",
    "\n",
    "img = cv2.resize(org_img, dsize=(rows,cols), interpolation=cv2.INTER_LINEAR)"
   ]
  },
  {
   "cell_type": "code",
   "execution_count": 62,
   "id": "574d5aa4",
   "metadata": {},
   "outputs": [],
   "source": [
    "# org_img.shape[0] - Represent Height of Orginal Image\n",
    "# org_img.shape[1] - Represent width of Orginal Image"
   ]
  },
  {
   "cell_type": "markdown",
   "id": "3e2a7ef5",
   "metadata": {},
   "source": [
    "### Creates a copy of the img & Rectangle"
   ]
  },
  {
   "cell_type": "code",
   "execution_count": 63,
   "id": "3564a971",
   "metadata": {},
   "outputs": [],
   "source": [
    "copy = img.copy()\n",
    "t1 = cv2.rectangle(copy, (rows//2-250,cols//2-90), (rows//2+250,cols//2+110), (255,255,255),-1)"
   ]
  },
  {
   "cell_type": "markdown",
   "id": "e232b8c7",
   "metadata": {},
   "source": [
    "### Adding a text on the image "
   ]
  },
  {
   "cell_type": "code",
   "execution_count": 64,
   "id": "d89d6325",
   "metadata": {},
   "outputs": [],
   "source": [
    "final = cv2.addWeighted(img,0.1,copy,0.9,0)\n",
    "t2 = cv2.putText(\n",
    "    img = final,\n",
    "    text = 'Most Dominant Colors in the Image',     \n",
    "    org = (rows//2-230,cols//2-40), \n",
    "    fontFace = cv2.FONT_HERSHEY_DUPLEX,\n",
    "    fontScale = 0.8,\n",
    "    color = (0,0,0),\n",
    "    thickness = 1,\n",
    "    lineType = cv2.LINE_AA\n",
    ")"
   ]
  },
  {
   "cell_type": "markdown",
   "id": "b6e9d9d8",
   "metadata": {},
   "source": [
    "### Display the top 5 dominant colors of the input image on the output image."
   ]
  },
  {
   "cell_type": "code",
   "execution_count": 65,
   "id": "e6e0e79f",
   "metadata": {},
   "outputs": [],
   "source": [
    "start = rows//2-220\n",
    "for i in range(clusters):\n",
    "    end = start+70\n",
    "    final[cols//2:cols//2+70,start:end] = p_and_c[i][1]\n",
    "    cv2.putText(final, str(i+1), (start+25,cols//2+45), cv2.FONT_HERSHEY_DUPLEX,1, (255,255,255), 1, cv2.LINE_AA)\n",
    "    start = end+20\n",
    "    \n",
    "plt.show()"
   ]
  },
  {
   "cell_type": "code",
   "execution_count": 66,
   "id": "85bff378",
   "metadata": {},
   "outputs": [
    {
     "data": {
      "text/plain": [
       "True"
      ]
     },
     "execution_count": 66,
     "metadata": {},
     "output_type": "execute_result"
    }
   ],
   "source": [
    "cv2.imshow('img',final)\n",
    "cv2.waitKey(0)\n",
    "cv2.destroyAllWindows()\n",
    "cv2.imwrite('output.png', final)"
   ]
  },
  {
   "cell_type": "code",
   "execution_count": null,
   "id": "b190d2cb",
   "metadata": {},
   "outputs": [],
   "source": []
  }
 ],
 "metadata": {
  "kernelspec": {
   "display_name": "Python 3 (ipykernel)",
   "language": "python",
   "name": "python3"
  },
  "language_info": {
   "codemirror_mode": {
    "name": "ipython",
    "version": 3
   },
   "file_extension": ".py",
   "mimetype": "text/x-python",
   "name": "python",
   "nbconvert_exporter": "python",
   "pygments_lexer": "ipython3",
   "version": "3.9.13"
  }
 },
 "nbformat": 4,
 "nbformat_minor": 5
}
